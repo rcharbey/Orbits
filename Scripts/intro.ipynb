{
 "cells": [
  {
   "cell_type": "code",
   "execution_count": 15,
   "metadata": {},
   "outputs": [],
   "source": [
    "import csv\n",
    "from os.path import expanduser\n",
    "from os import listdir\n",
    "from numpy import corrcoef\n",
    "\n",
    "def compute_list_egos():\n",
    "    list_egos = [ego.split('.')[0] for ego in listdir('../Data/Positions/')]\n",
    "    return list_egos\n",
    "\n",
    "LIST_EGOS = compute_list_egos()\n",
    "\n",
    "pos_k4 = range(4,15)\n",
    "ok_pos = pos_k4"
   ]
  },
  {
   "cell_type": "code",
   "execution_count": 16,
   "metadata": {},
   "outputs": [],
   "source": [
    "def compute_global_repr():\n",
    "    data = '../Data/Positions/'\n",
    "    sum_each = {i : 0 for i in ok_pos}\n",
    "    for ego in listdir(data):\n",
    "        with open(data + ego, 'r') as to_read:\n",
    "            csvr = csv.reader(to_read, delimiter = ';')\n",
    "            for line in csvr:\n",
    "                for i in ok_pos:\n",
    "                    sum_each[i] += int(line[i])\n",
    "    \n",
    "    with open('../Data/global_representativities.csv', 'w') as to_write:\n",
    "        csvw = csv.writer(to_write, delimiter = ';')\n",
    "        global_repr = [sum_each[i] / float(sum(sum_each.values())) for i in ok_pos]\n",
    "        csvw.writerow(global_repr) \n",
    "    \n",
    "    return global_repr\n",
    "        \n",
    "GLOBAL_REPR = compute_global_repr()"
   ]
  },
  {
   "cell_type": "code",
   "execution_count": 17,
   "metadata": {},
   "outputs": [],
   "source": [
    "def compute_local_repr(ego):\n",
    "    loc_repr = []\n",
    "    with open('../Data/Positions/%s.csv' % ego, 'r') as to_read:\n",
    "        csv_r = csv.reader(to_read, delimiter = ';')\n",
    "        for line in csv_r:\n",
    "            temp = []\n",
    "            i = 0\n",
    "            for pos in ok_pos:\n",
    "                temp.append(int(line[pos]))\n",
    "            \n",
    "            sum_temp = sum(temp)\n",
    "            if sum_temp == 0:\n",
    "                continue\n",
    "                \n",
    "            temp2 = []\n",
    "            for nb_count in temp:\n",
    "                temp2.append(nb_count / float(sum(temp)))\n",
    "                \n",
    "            temp3 = []\n",
    "            for nb_count in temp2:\n",
    "                v = nb_count / float(GLOBAL_REPR[i])\n",
    "                i += 1\n",
    "                if v > 2:\n",
    "                    v = 2 - 1 / v\n",
    "                temp3.append(v)\n",
    "                \n",
    "            loc_repr.append(temp3)\n",
    "    \n",
    "    with open('../Data/Representativities/%s_k4.csv' % ego, 'w') as to_write:\n",
    "        csv_w = csv.writer(to_write, delimiter = ';')\n",
    "        for alter in loc_repr:\n",
    "            csv_w.writerow(alter)\n",
    "            \n",
    "for ego in LIST_EGOS:\n",
    "    compute_local_repr(ego)"
   ]
  },
  {
   "cell_type": "code",
   "execution_count": 19,
   "metadata": {},
   "outputs": [
    {
     "name": "stdout",
     "output_type": "stream",
     "text": [
      "791515\n"
     ]
    }
   ],
   "source": [
    "list_variables = []\n",
    "i = 0\n",
    "for ego in LIST_EGOS:\n",
    "    with open('../Data/Representativities/%s_k4.csv' % ego, 'r') as to_read:\n",
    "        csv_r = csv.reader(to_read, delimiter = ';')\n",
    "        for line in csv_r:\n",
    "            list_variables.append([float(x) for x in line])\n",
    "            \n",
    "print len(list_variables)"
   ]
  },
  {
   "cell_type": "code",
   "execution_count": null,
   "metadata": {},
   "outputs": [],
   "source": [
    "a = corrcoef(list_variables[0:10000])\n",
    "b = corrcoef(list_variables[10001:20000])\n",
    "\n",
    "print a\n",
    "print b\n",
    "\n",
    "print corrcoef(a,b)\n",
    "    \n"
   ]
  },
  {
   "cell_type": "code",
   "execution_count": null,
   "metadata": {
    "collapsed": true
   },
   "outputs": [],
   "source": []
  }
 ],
 "metadata": {
  "kernelspec": {
   "display_name": "Python 2",
   "language": "python",
   "name": "python2"
  },
  "language_info": {
   "codemirror_mode": {
    "name": "ipython",
    "version": 2
   },
   "file_extension": ".py",
   "mimetype": "text/x-python",
   "name": "python",
   "nbconvert_exporter": "python",
   "pygments_lexer": "ipython2",
   "version": "2.7.14"
  }
 },
 "nbformat": 4,
 "nbformat_minor": 2
}
